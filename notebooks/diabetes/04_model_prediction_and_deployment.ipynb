{
 "cells": [
  {
   "cell_type": "markdown",
   "id": "8d353f73",
   "metadata": {},
   "source": [
    "# Model Evaluaton and Deployment"
   ]
  },
  {
   "cell_type": "markdown",
   "id": "64ce700b",
   "metadata": {},
   "source": [
    "## Table of Contents\n",
    "1. [Import Libraries](#import-libraries)\n",
    "2. [Import Data and Model](#import-data-and-model)\n",
    "3. [Evaluate the Model on Test Set](#evaluate-model)\n",
    "4. [Prediction Function for New Data](#prediction-function)"
   ]
  },
  {
   "cell_type": "markdown",
   "id": "621c24f9",
   "metadata": {},
   "source": [
    "## 1. Import Libraries <a id=\"import-libraries\"></a>"
   ]
  },
  {
   "cell_type": "code",
   "execution_count": 8,
   "id": "99efcdb4",
   "metadata": {},
   "outputs": [],
   "source": [
    "import pandas as pd\n",
    "import numpy as np\n",
    "from sklearn.metrics import classification_report, confusion_matrix, accuracy_score, f1_score\n",
    "import joblib"
   ]
  },
  {
   "cell_type": "markdown",
   "id": "2b27f0da",
   "metadata": {},
   "source": [
    "## 2. Import Data and Model <a id=\"import-data-and-model\"></a>"
   ]
  },
  {
   "cell_type": "code",
   "execution_count": 13,
   "id": "0fcc678e",
   "metadata": {},
   "outputs": [],
   "source": [
    "# Processed Data\n",
    "X_test = pd.read_csv('../../data/processed/X_test_scaled.csv')\n",
    "y_test = pd.read_csv('../../data/processed/y_test.csv').values.ravel()\n",
    "\n",
    "# Load model\n",
    "model = joblib.load('../../models/best_model.pkl')"
   ]
  },
  {
   "cell_type": "markdown",
   "id": "a6fc055f",
   "metadata": {},
   "source": [
    "## 3. Evaluate the Model on Test Set <a id=\"evaluate-model\"></a>"
   ]
  },
  {
   "cell_type": "code",
   "execution_count": 14,
   "id": "914fd809",
   "metadata": {},
   "outputs": [
    {
     "name": "stdout",
     "output_type": "stream",
     "text": [
      "Accuracy: 0.8117, F1-score: 0.7766\n",
      "Classification Report:\n",
      "               precision    recall  f1-score   support\n",
      "\n",
      "           0       0.81      0.93      0.87       100\n",
      "           1       0.82      0.59      0.69        54\n",
      "\n",
      "    accuracy                           0.81       154\n",
      "   macro avg       0.81      0.76      0.78       154\n",
      "weighted avg       0.81      0.81      0.80       154\n",
      "\n"
     ]
    },
    {
     "data": {
      "image/png": "[encoded data removed]",
      "text/plain": [
       "<Figure size 640x480 with 2 Axes>"
      ]
     },
     "metadata": {},
     "output_type": "display_data"
    }
   ],
   "source": [
    "y_pred = model.predict(X_test)\n",
    "acc = accuracy_score(y_test, y_pred)\n",
    "f1 = f1_score(y_test, y_pred, average='macro')\n",
    "print(f'Accuracy: {acc:.4f}, F1-score: {f1:.4f}')\n",
    "print('Classification Report:\\n', classification_report(y_test, y_pred))\n",
    "\n",
    "cm = confusion_matrix(y_test, y_pred)\n",
    "import seaborn as sns\n",
    "import matplotlib.pyplot as plt\n",
    "sns.heatmap(cm, annot=True, fmt='d', cmap='Reds')\n",
    "plt.xlabel('Predicted')\n",
    "plt.ylabel('Actual')\n",
    "plt.title('Confusion Matrix - Best KNN')\n",
    "# plt.savefig('../../outputs/charts/nb1_confusion_matrix_best_knn.png', bbox_inches='tight')\n",
    "plt.show()"
   ]
  },
  {
   "cell_type": "markdown",
   "id": "aadebe1e",
   "metadata": {},
   "source": [
    "## 4. Prediction Function for New Data <a id=\"prediction-function\"></a>"
   ]
  },
  {
   "cell_type": "code",
   "execution_count": 10,
   "id": "e7cebd18",
   "metadata": {},
   "outputs": [],
   "source": [
    "def predict_diabetes(input_data, model_path='../../models/best_model.pkl'):\n",
    "    \"\"\"\n",
    "    input_data: array-like, shape (n_samples, n_features)\n",
    "    model_path: path of saved model\n",
    "    \"\"\"\n",
    "    model = joblib.load(model_path)\n",
    "    prediction = model.predict(input_data)\n",
    "    return prediction\n",
    "\n",
    "# Ví dụ sử dụng:\n",
    "# new_data = X_test.iloc[:5, :]\n",
    "# print(predict_diabetes(new_data))"
   ]
  }
 ],
 "metadata": {
  "kernelspec": {
   "display_name": "venv",
   "language": "python",
   "name": "python3"
  },
  "language_info": {
   "codemirror_mode": {
    "name": "ipython",
    "version": 3
   },
   "file_extension": ".py",
   "mimetype": "text/x-python",
   "name": "python",
   "nbconvert_exporter": "python",
   "pygments_lexer": "ipython3",
   "version": "3.12.10"
  }
 },
 "nbformat": 4,
 "nbformat_minor": 5
}
