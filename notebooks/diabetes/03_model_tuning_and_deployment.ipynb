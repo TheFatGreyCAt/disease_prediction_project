{
 "cells": [
  {
   "cell_type": "markdown",
   "id": "aaab5fc2",
   "metadata": {},
   "source": [
    "# Model Tuning"
   ]
  },
  {
   "cell_type": "markdown",
   "id": "9e29ca54",
   "metadata": {},
   "source": [
    "## Table of Contents\n",
    "1. [Import Libraries and Data](#import-libraries-and-data)\n",
    "2. [Model Tuning](#model-tuning)\n",
    "    - 2.1. [Hyperparameter Tuning for KNN](#tuning-knn)\n",
    "    - 2.2. [Re-evaluating the Model after Tuning](#reevaluate)\n",
    "    - 2.3. [Saving the Best Tuning Model](#save-tuned-model)"
   ]
  },
  {
   "cell_type": "markdown",
   "id": "ad65a3d2",
   "metadata": {},
   "source": [
    "## 1. Import Libraries and Data"
   ]
  },
  {
   "cell_type": "code",
   "execution_count": 86,
   "id": "6c4e8d1c",
   "metadata": {},
   "outputs": [],
   "source": [
    "import pandas as pd\n",
    "import numpy as np\n",
    "import seaborn as sns\n",
    "import matplotlib.pyplot as plt\n",
    "from sklearn.neighbors import KNeighborsClassifier\n",
    "from sklearn.model_selection import GridSearchCV, RandomizedSearchCV\n",
    "from sklearn.metrics import classification_report, confusion_matrix, accuracy_score, f1_score, make_scorer, recall_score\n",
    "import joblib"
   ]
  },
  {
   "cell_type": "code",
   "execution_count": 27,
   "id": "a1994cbe",
   "metadata": {},
   "outputs": [],
   "source": [
    "X_train = pd.read_csv('../../data/processed/X_train_scaled.csv')\n",
    "X_test = pd.read_csv('../../data/processed/X_test_scaled.csv')\n",
    "y_train = pd.read_csv('../../data/processed/y_train.csv').values.ravel()\n",
    "y_test = pd.read_csv('../../data/processed/y_test.csv').values.ravel()"
   ]
  },
  {
   "cell_type": "markdown",
   "id": "1000d173",
   "metadata": {},
   "source": [
    "## 2. Model Tuning <a id=\"model-tuning\"></a>"
   ]
  },
  {
   "cell_type": "markdown",
   "id": "f3e4dcae",
   "metadata": {},
   "source": [
    "- Table of Contents:\n",
    "    1. Hyperparameter Tuning for KNN (GridSearchCV)\n",
    "    2. Re-evaluating the Model after Tuning\n",
    "    3. Saving the Best Model"
   ]
  },
  {
   "cell_type": "markdown",
   "id": "bbd14542",
   "metadata": {},
   "source": [
    "### 2.1. Hyperparameter Tuning for KNN (GridSearchCV) <a id=\"tuning-knn\"></a>"
   ]
  },
  {
   "cell_type": "markdown",
   "id": "72ed74d2",
   "metadata": {},
   "source": [
    "- Tìm kiếm giá trị tối ưu của những tham số không được học trực tiếp từ dữ liệu trong quá trình huấn luyện.\n",
    "- Với mô hình KNN thì các siêu tham số tiêu biểu gồm:\n",
    "    - n_neigbors : Số lượng \"hàng xóm gần nhất\".\n",
    "    - weights : Cách tính trọng số.\n",
    "    - metric : Khoảng cách dùng để đo độ gần.\n",
    "- Sử dụng RandomizedSearchCV ta tìm ra được tổ hợp hyperparameter tốt nhất."
   ]
  },
  {
   "cell_type": "code",
   "execution_count": 100,
   "id": "1d513791",
   "metadata": {},
   "outputs": [
    {
     "name": "stdout",
     "output_type": "stream",
     "text": [
      "Fitting 10 folds for each of 40 candidates, totalling 400 fits\n",
      "Best params: {'weights': 'distance', 'n_neighbors': 8, 'metric': 'euclidean'}\n",
      "Best cross-val F1: 0.5316017316017315\n",
      "Best params: {'weights': 'distance', 'n_neighbors': 8, 'metric': 'euclidean'}\n",
      "Best cross-val F1: 0.5316017316017315\n"
     ]
    }
   ],
   "source": [
    "param_dist = {\n",
    "    'n_neighbors' : list(range(1, 30)),\n",
    "    'weights' : ['uniform', 'distance'],\n",
    "    'metric' : ['euclidean', 'minkowski', 'manhattan', 'chebyshev']\n",
    "}\n",
    "\n",
    "recall_scorer = make_scorer(recall_score, pos_label=1)\n",
    "\n",
    "random_search = RandomizedSearchCV(\n",
    "    KNeighborsClassifier(),\n",
    "    param_distributions=param_dist,\n",
    "    n_iter=40,\n",
    "    scoring=recall_scorer,\n",
    "    cv=10,\n",
    "    n_jobs=-1,\n",
    "    random_state=42,\n",
    "    verbose=2\n",
    ")\n",
    "\n",
    "random_search.fit(X_train, y_train)\n",
    "\n",
    "print(f\"Best params: {random_search.best_params_}\")\n",
    "print(f\"Best cross-val F1: {random_search.best_score_}\")\n",
    "\n",
    "best_knn = random_search.best_estimator_"
   ]
  },
  {
   "cell_type": "markdown",
   "id": "361a2a59",
   "metadata": {},
   "source": [
    "### 2.2. Re-evaluating the Model after Tuning <a id=\"reevaluate\"></a>"
   ]
  },
  {
   "cell_type": "code",
   "execution_count": 103,
   "id": "e442ba6b",
   "metadata": {},
   "outputs": [
    {
     "name": "stdout",
     "output_type": "stream",
     "text": [
      "Accuracy: 0.7727, F1-score: 0.7395\n",
      "Classification Report:\n",
      "               precision    recall  f1-score   support\n",
      "\n",
      "           0       0.80      0.87      0.83       100\n",
      "           1       0.71      0.59      0.65        54\n",
      "\n",
      "    accuracy                           0.77       154\n",
      "   macro avg       0.75      0.73      0.74       154\n",
      "weighted avg       0.77      0.77      0.77       154\n",
      "\n"
     ]
    },
    {
     "data": {
      "image/png": "[encoded data removed]",
      "text/plain": [
       "<Figure size 640x480 with 2 Axes>"
      ]
     },
     "metadata": {},
     "output_type": "display_data"
    }
   ],
   "source": [
    "y_pred = best_knn.predict(X_test)\n",
    "acc = accuracy_score(y_test, y_pred)\n",
    "f1 = f1_score(y_test, y_pred, average='macro')\n",
    "print(f'Accuracy: {acc:.4f}, F1-score: {f1:.4f}')\n",
    "print('Classification Report:\\n', classification_report(y_test, y_pred))\n",
    "\n",
    "# Confusion Matrix\n",
    "cm = confusion_matrix(y_test, y_pred)\n",
    "sns.heatmap(cm, annot=True, fmt='d', cmap='Reds')\n",
    "plt.xlabel('Predicted')\n",
    "plt.ylabel('Actual')\n",
    "plt.title('Confusion Matrix - Best KNN')\n",
    "# plt.savefig('../../outputs/charts/nb1_confusion_matrix_best_knn.png', bbox_inches='tight')\n",
    "plt.show()"
   ]
  },
  {
   "cell_type": "markdown",
   "id": "3642ac8a",
   "metadata": {},
   "source": [
    "- Sau khi điều chỉnh siêu tham số và đánh giá lại mô hình:\n",
    "    - Các chỉ số tổng thể (accuracy, f1-score) và recall của lớp 1 đều giảm so với mô hình mặc định.\n",
    "    - Việc giữ lại mô hình KNN mặc định sẽ cho kết quả tốt hơn.\n"
   ]
  },
  {
   "cell_type": "markdown",
   "id": "dfe3ec5c",
   "metadata": {},
   "source": [
    "### 2.3. Saving the Best Tuning Model <a id=\"save-tuned-model\"></a>"
   ]
  },
  {
   "cell_type": "code",
   "execution_count": 102,
   "id": "caa67ac7",
   "metadata": {},
   "outputs": [
    {
     "name": "stdout",
     "output_type": "stream",
     "text": [
      "Saving the best model in models/best_knn_tuning_model.pkl\n"
     ]
    }
   ],
   "source": [
    "joblib.dump(best_knn, '../../models/best_knn_tuning_model.pkl')\n",
    "print('Saving the best model in models/best_knn_tuning_model.pkl')"
   ]
  }
 ],
 "metadata": {
  "kernelspec": {
   "display_name": "venv",
   "language": "python",
   "name": "python3"
  },
  "language_info": {
   "codemirror_mode": {
    "name": "ipython",
    "version": 3
   },
   "file_extension": ".py",
   "mimetype": "text/x-python",
   "name": "python",
   "nbconvert_exporter": "python",
   "pygments_lexer": "ipython3",
   "version": "3.12.10"
  }
 },
 "nbformat": 4,
 "nbformat_minor": 5
}
